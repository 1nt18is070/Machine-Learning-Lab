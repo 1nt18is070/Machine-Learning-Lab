{
 "cells": [
  {
   "cell_type": "code",
   "execution_count": 127,
   "id": "derived-corps",
   "metadata": {},
   "outputs": [],
   "source": [
    "import pandas as pd\n",
    "import math as m"
   ]
  },
  {
   "cell_type": "code",
   "execution_count": 128,
   "id": "single-tablet",
   "metadata": {},
   "outputs": [],
   "source": [
    "import numpy as np"
   ]
  },
  {
   "cell_type": "code",
   "execution_count": 129,
   "id": "aggregate-toronto",
   "metadata": {},
   "outputs": [],
   "source": [
    "import matplotlib.pyplot as plt\n",
    "from sklearn.cluster import KMeans"
   ]
  },
  {
   "cell_type": "code",
   "execution_count": 130,
   "id": "laden-algebra",
   "metadata": {},
   "outputs": [],
   "source": [
    "%matplotlib inline\n"
   ]
  },
  {
   "cell_type": "code",
   "execution_count": 131,
   "id": "genetic-calendar",
   "metadata": {},
   "outputs": [],
   "source": [
    "#X= np.random.rand(10,2)\n",
    "#X1 = np.random.rand(5,2)"
   ]
  },
  {
   "cell_type": "code",
   "execution_count": 132,
   "id": "basic-restriction",
   "metadata": {},
   "outputs": [],
   "source": [
    "# print(X)\n",
    "# print(X1)"
   ]
  },
  {
   "cell_type": "code",
   "execution_count": 133,
   "id": "ideal-idaho",
   "metadata": {},
   "outputs": [],
   "source": [
    "# X[5:10, :] = X1"
   ]
  },
  {
   "cell_type": "code",
   "execution_count": 134,
   "id": "bridal-tension",
   "metadata": {},
   "outputs": [],
   "source": [
    "# print(X)"
   ]
  },
  {
   "cell_type": "code",
   "execution_count": 135,
   "id": "white-protocol",
   "metadata": {},
   "outputs": [],
   "source": [
    "data=pd.read_csv(\"kmeansdataset.csv\")"
   ]
  },
  {
   "cell_type": "code",
   "execution_count": 136,
   "id": "spare-bargain",
   "metadata": {},
   "outputs": [
    {
     "name": "stdout",
     "output_type": "stream",
     "text": [
      "     a    b\n",
      "0  1.2  7.1\n",
      "1  5.4  9.4\n",
      "2  9.6  4.8\n",
      "3  1.6  2.9\n",
      "4  8.4  3.7\n",
      "5  7.4  8.4\n",
      "6  8.4  7.1\n",
      "7  3.7  5.6\n",
      "8  6.3  4.4\n",
      "9  1.9  6.7\n"
     ]
    }
   ],
   "source": [
    "print(data)"
   ]
  },
  {
   "cell_type": "code",
   "execution_count": 1,
   "id": "relevant-happiness",
   "metadata": {},
   "outputs": [
    {
     "ename": "NameError",
     "evalue": "name 'data' is not defined",
     "output_type": "error",
     "traceback": [
      "\u001b[0;31m---------------------------------------------------------------------------\u001b[0m",
      "\u001b[0;31mNameError\u001b[0m                                 Traceback (most recent call last)",
      "\u001b[0;32m<ipython-input-1-0c0511131d1e>\u001b[0m in \u001b[0;36m<module>\u001b[0;34m\u001b[0m\n\u001b[0;32m----> 1\u001b[0;31m \u001b[0mx1\u001b[0m \u001b[0;34m=\u001b[0m \u001b[0mdata\u001b[0m\u001b[0;34m[\u001b[0m\u001b[0;34m'a'\u001b[0m\u001b[0;34m]\u001b[0m\u001b[0;34m.\u001b[0m\u001b[0mvalues\u001b[0m\u001b[0;34m\u001b[0m\u001b[0;34m\u001b[0m\u001b[0m\n\u001b[0m",
      "\u001b[0;31mNameError\u001b[0m: name 'data' is not defined"
     ]
    }
   ],
   "source": [
    "x1 = data['a'].values"
   ]
  },
  {
   "cell_type": "code",
   "execution_count": 138,
   "id": "brazilian-preference",
   "metadata": {},
   "outputs": [
    {
     "name": "stdout",
     "output_type": "stream",
     "text": [
      "[1.2 5.4 9.6 1.6 8.4 7.4 8.4 3.7 6.3 1.9]\n"
     ]
    }
   ],
   "source": [
    "print(x1)"
   ]
  },
  {
   "cell_type": "code",
   "execution_count": 139,
   "id": "exterior-biography",
   "metadata": {},
   "outputs": [],
   "source": [
    "x2=data['b'].values"
   ]
  },
  {
   "cell_type": "code",
   "execution_count": 140,
   "id": "institutional-vintage",
   "metadata": {},
   "outputs": [
    {
     "name": "stdout",
     "output_type": "stream",
     "text": [
      "[7.1 9.4 4.8 2.9 3.7 8.4 7.1 5.6 4.4 6.7]\n"
     ]
    }
   ],
   "source": [
    "print(x2)"
   ]
  },
  {
   "cell_type": "code",
   "execution_count": 141,
   "id": "crazy-thompson",
   "metadata": {},
   "outputs": [],
   "source": [
    "c = np.array(list(zip(x1,x2)))"
   ]
  },
  {
   "cell_type": "code",
   "execution_count": 142,
   "id": "plastic-bloom",
   "metadata": {},
   "outputs": [
    {
     "name": "stdout",
     "output_type": "stream",
     "text": [
      "[[1.2 7.1]\n",
      " [5.4 9.4]\n",
      " [9.6 4.8]\n",
      " [1.6 2.9]\n",
      " [8.4 3.7]\n",
      " [7.4 8.4]\n",
      " [8.4 7.1]\n",
      " [3.7 5.6]\n",
      " [6.3 4.4]\n",
      " [1.9 6.7]]\n"
     ]
    }
   ],
   "source": [
    "print(c)"
   ]
  },
  {
   "cell_type": "code",
   "execution_count": 143,
   "id": "assumed-whale",
   "metadata": {},
   "outputs": [],
   "source": [
    "c1 = [6.2,6.6,6.5]"
   ]
  },
  {
   "cell_type": "code",
   "execution_count": 144,
   "id": "useful-musical",
   "metadata": {},
   "outputs": [],
   "source": [
    "c2 = [3.2,3.7,3.0]"
   ]
  },
  {
   "cell_type": "code",
   "execution_count": 145,
   "id": "persistent-baking",
   "metadata": {},
   "outputs": [],
   "source": [
    "centroid= np.array(list(zip(c1,c2)))"
   ]
  },
  {
   "cell_type": "code",
   "execution_count": 146,
   "id": "suited-firewall",
   "metadata": {},
   "outputs": [
    {
     "name": "stdout",
     "output_type": "stream",
     "text": [
      "[[6.2 3.2]\n",
      " [6.6 3.7]\n",
      " [6.5 3. ]]\n"
     ]
    }
   ],
   "source": [
    "print(centroid)"
   ]
  },
  {
   "cell_type": "code",
   "execution_count": 147,
   "id": "enclosed-silver",
   "metadata": {},
   "outputs": [
    {
     "name": "stdout",
     "output_type": "stream",
     "text": [
      "6.341135544995075\n",
      "6.381222453417526\n",
      "6.700746227100382\n",
      "\n",
      "\n",
      "6.251399843235114\n",
      "5.82494635168428\n",
      "6.493843238021689\n",
      "\n",
      "\n",
      "3.7576588456111866\n",
      "3.195309061734091\n",
      "3.584689665786984\n",
      "\n",
      "\n",
      "4.6097722286464435\n",
      "5.063595560468865\n",
      "4.901020301937139\n",
      "\n",
      "\n",
      "2.2561028345356955\n",
      "1.8000000000000007\n",
      "2.024845673131659\n",
      "\n",
      "\n",
      "5.336665625650534\n",
      "4.767598976424087\n",
      "5.474486277268398\n",
      "\n",
      "\n",
      "4.477722635447622\n",
      "3.8470768123342687\n",
      "4.518849411078001\n",
      "\n",
      "\n",
      "3.465544690232691\n",
      "3.4669871646719423\n",
      "3.8209946349085597\n",
      "\n",
      "\n",
      "1.2041594578792296\n",
      "0.761577310586391\n",
      "1.4142135623730956\n",
      "\n",
      "\n",
      "5.5443665102516455\n",
      "5.575840743780259\n",
      "5.903388857258176\n",
      "\n",
      "\n"
     ]
    }
   ],
   "source": [
    "for i in c:\n",
    "    for j in centroid:\n",
    "        val=np.linalg.norm(j-i)\n",
    "        print(val)\n",
    "    print('\\n')"
   ]
  },
  {
   "cell_type": "code",
   "execution_count": null,
   "id": "premium-surfing",
   "metadata": {},
   "outputs": [],
   "source": []
  },
  {
   "cell_type": "code",
   "execution_count": null,
   "id": "senior-polish",
   "metadata": {},
   "outputs": [],
   "source": []
  },
  {
   "cell_type": "code",
   "execution_count": null,
   "id": "eight-procedure",
   "metadata": {},
   "outputs": [],
   "source": []
  }
 ],
 "metadata": {
  "kernelspec": {
   "display_name": "Python 3",
   "language": "python",
   "name": "python3"
  },
  "language_info": {
   "codemirror_mode": {
    "name": "ipython",
    "version": 3
   },
   "file_extension": ".py",
   "mimetype": "text/x-python",
   "name": "python",
   "nbconvert_exporter": "python",
   "pygments_lexer": "ipython3",
   "version": "3.7.3"
  }
 },
 "nbformat": 4,
 "nbformat_minor": 5
}
