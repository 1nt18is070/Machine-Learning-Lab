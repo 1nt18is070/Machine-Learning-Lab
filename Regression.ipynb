{
 "cells": [
  {
   "cell_type": "code",
   "execution_count": 17,
   "id": "accurate-polish",
   "metadata": {},
   "outputs": [],
   "source": [
    "import pandas as pd"
   ]
  },
  {
   "cell_type": "code",
   "execution_count": 18,
   "id": "shared-voluntary",
   "metadata": {},
   "outputs": [],
   "source": [
    "import numpy as np"
   ]
  },
  {
   "cell_type": "code",
   "execution_count": 19,
   "id": "stainless-novelty",
   "metadata": {},
   "outputs": [],
   "source": [
    "data=pd.read_csv('/home/root1/Sajid/Food-Truck-LineReg.csv')"
   ]
  },
  {
   "cell_type": "code",
   "execution_count": 20,
   "id": "false-nashville",
   "metadata": {},
   "outputs": [
    {
     "name": "stdout",
     "output_type": "stream",
     "text": [
      "          x         y\n",
      "0    6.1101  17.59200\n",
      "1    5.5277   9.13020\n",
      "2    8.5186  13.66200\n",
      "3    7.0032  11.85400\n",
      "4    5.8598   6.82330\n",
      "..      ...       ...\n",
      "92   5.8707   7.20290\n",
      "93   5.3054   1.98690\n",
      "94   8.2934   0.14454\n",
      "95  13.3940   9.05510\n",
      "96   5.4369   0.61705\n",
      "\n",
      "[97 rows x 2 columns]\n"
     ]
    }
   ],
   "source": [
    "print(data)"
   ]
  },
  {
   "cell_type": "code",
   "execution_count": 21,
   "id": "competent-cutting",
   "metadata": {},
   "outputs": [],
   "source": [
    "x=data['x'].values"
   ]
  },
  {
   "cell_type": "code",
   "execution_count": 22,
   "id": "going-sheet",
   "metadata": {},
   "outputs": [],
   "source": [
    "y=data['y'].values"
   ]
  },
  {
   "cell_type": "code",
   "execution_count": 23,
   "id": "sapphire-interstate",
   "metadata": {},
   "outputs": [
    {
     "name": "stdout",
     "output_type": "stream",
     "text": [
      "[ 6.1101  5.5277  8.5186  7.0032  5.8598  8.3829  7.4764  8.5781  6.4862\n",
      "  5.0546  5.7107 14.164   5.734   8.4084  5.6407  5.3794  6.3654  5.1301\n",
      "  6.4296  7.0708  6.1891 20.27    5.4901  6.3261  5.5649 18.945  12.828\n",
      " 10.957  13.176  22.203   5.2524  6.5894  9.2482  5.8918  8.2111  7.9334\n",
      "  8.0959  5.6063 12.836   6.3534  5.4069  6.8825 11.708   5.7737  7.8247\n",
      "  7.0931  5.0702  5.8014 11.7     5.5416  7.5402  5.3077  7.4239  7.6031\n",
      "  6.3328  6.3589  6.2742  5.6397  9.3102  9.4536  8.8254  5.1793 21.279\n",
      " 14.908  18.959   7.2182  8.2951 10.236   5.4994 20.341  10.136   7.3345\n",
      "  6.0062  7.2259  5.0269  6.5479  7.5386  5.0365 10.274   5.1077  5.7292\n",
      "  5.1884  6.3557  9.7687  6.5159  8.5172  9.1802  6.002   5.5204  5.0594\n",
      "  5.7077  7.6366  5.8707  5.3054  8.2934 13.394   5.4369]\n"
     ]
    }
   ],
   "source": [
    "print(x)"
   ]
  },
  {
   "cell_type": "code",
   "execution_count": 24,
   "id": "printable-murray",
   "metadata": {},
   "outputs": [
    {
     "name": "stdout",
     "output_type": "stream",
     "text": [
      "[17.592    9.1302  13.662   11.854    6.8233  11.886    4.3483  12.\n",
      "  6.5987   3.8166   3.2522  15.505    3.1551   7.2258   0.71618  3.5129\n",
      "  5.3048   0.56077  3.6518   5.3893   3.1386  21.767    4.263    5.1875\n",
      "  3.0825  22.638   13.501    7.0467  14.692   24.147   -1.22     5.9966\n",
      " 12.134    1.8495   6.5426   4.5623   4.1164   3.3928  10.117    5.4974\n",
      "  0.55657  3.9115   5.3854   2.4406   6.7318   1.0463   5.1337   1.844\n",
      "  8.0043   1.0179   6.7504   1.8396   4.2885   4.9981   1.4233  -1.4211\n",
      "  2.4756   4.6042   3.9624   5.4141   5.1694  -0.74279 17.929   12.054\n",
      " 17.054    4.8852   5.7442   7.7754   1.0173  20.992    6.6799   4.0259\n",
      "  1.2784   3.3411  -2.6807   0.29678  3.8845   5.7014   6.7526   2.0576\n",
      "  0.47953  0.20421  0.67861  7.5435   5.3436   4.2415   6.7981   0.92695\n",
      "  0.152    2.8214   1.8451   4.2959   7.2029   1.9869   0.14454  9.0551\n",
      "  0.61705]\n"
     ]
    }
   ],
   "source": [
    "print(y)"
   ]
  },
  {
   "cell_type": "code",
   "execution_count": 25,
   "id": "incident-survivor",
   "metadata": {},
   "outputs": [],
   "source": [
    "X=np.array(list(zip(x)))\n",
    "Y=np.array(list(zip(y)))"
   ]
  },
  {
   "cell_type": "code",
   "execution_count": 29,
   "id": "dense-hurricane",
   "metadata": {},
   "outputs": [
    {
     "name": "stdout",
     "output_type": "stream",
     "text": [
      "[[ 6.1101]\n",
      " [ 5.5277]\n",
      " [ 8.5186]\n",
      " [ 7.0032]\n",
      " [ 5.8598]\n",
      " [ 8.3829]\n",
      " [ 7.4764]\n",
      " [ 8.5781]\n",
      " [ 6.4862]\n",
      " [ 5.0546]\n",
      " [ 5.7107]\n",
      " [14.164 ]\n",
      " [ 5.734 ]\n",
      " [ 8.4084]\n",
      " [ 5.6407]\n",
      " [ 5.3794]\n",
      " [ 6.3654]\n",
      " [ 5.1301]\n",
      " [ 6.4296]\n",
      " [ 7.0708]\n",
      " [ 6.1891]\n",
      " [20.27  ]\n",
      " [ 5.4901]\n",
      " [ 6.3261]\n",
      " [ 5.5649]\n",
      " [18.945 ]\n",
      " [12.828 ]\n",
      " [10.957 ]\n",
      " [13.176 ]\n",
      " [22.203 ]\n",
      " [ 5.2524]\n",
      " [ 6.5894]\n",
      " [ 9.2482]\n",
      " [ 5.8918]\n",
      " [ 8.2111]\n",
      " [ 7.9334]\n",
      " [ 8.0959]\n",
      " [ 5.6063]\n",
      " [12.836 ]\n",
      " [ 6.3534]\n",
      " [ 5.4069]\n",
      " [ 6.8825]\n",
      " [11.708 ]\n",
      " [ 5.7737]\n",
      " [ 7.8247]\n",
      " [ 7.0931]\n",
      " [ 5.0702]\n",
      " [ 5.8014]\n",
      " [11.7   ]\n",
      " [ 5.5416]\n",
      " [ 7.5402]\n",
      " [ 5.3077]\n",
      " [ 7.4239]\n",
      " [ 7.6031]\n",
      " [ 6.3328]\n",
      " [ 6.3589]\n",
      " [ 6.2742]\n",
      " [ 5.6397]\n",
      " [ 9.3102]\n",
      " [ 9.4536]\n",
      " [ 8.8254]\n",
      " [ 5.1793]\n",
      " [21.279 ]\n",
      " [14.908 ]\n",
      " [18.959 ]\n",
      " [ 7.2182]\n",
      " [ 8.2951]\n",
      " [10.236 ]\n",
      " [ 5.4994]\n",
      " [20.341 ]\n",
      " [10.136 ]\n",
      " [ 7.3345]\n",
      " [ 6.0062]\n",
      " [ 7.2259]\n",
      " [ 5.0269]\n",
      " [ 6.5479]\n",
      " [ 7.5386]\n",
      " [ 5.0365]\n",
      " [10.274 ]\n",
      " [ 5.1077]\n",
      " [ 5.7292]\n",
      " [ 5.1884]\n",
      " [ 6.3557]\n",
      " [ 9.7687]\n",
      " [ 6.5159]\n",
      " [ 8.5172]\n",
      " [ 9.1802]\n",
      " [ 6.002 ]\n",
      " [ 5.5204]\n",
      " [ 5.0594]\n",
      " [ 5.7077]\n",
      " [ 7.6366]\n",
      " [ 5.8707]\n",
      " [ 5.3054]\n",
      " [ 8.2934]\n",
      " [13.394 ]\n",
      " [ 5.4369]] [[17.592  ]\n",
      " [ 9.1302 ]\n",
      " [13.662  ]\n",
      " [11.854  ]\n",
      " [ 6.8233 ]\n",
      " [11.886  ]\n",
      " [ 4.3483 ]\n",
      " [12.     ]\n",
      " [ 6.5987 ]\n",
      " [ 3.8166 ]\n",
      " [ 3.2522 ]\n",
      " [15.505  ]\n",
      " [ 3.1551 ]\n",
      " [ 7.2258 ]\n",
      " [ 0.71618]\n",
      " [ 3.5129 ]\n",
      " [ 5.3048 ]\n",
      " [ 0.56077]\n",
      " [ 3.6518 ]\n",
      " [ 5.3893 ]\n",
      " [ 3.1386 ]\n",
      " [21.767  ]\n",
      " [ 4.263  ]\n",
      " [ 5.1875 ]\n",
      " [ 3.0825 ]\n",
      " [22.638  ]\n",
      " [13.501  ]\n",
      " [ 7.0467 ]\n",
      " [14.692  ]\n",
      " [24.147  ]\n",
      " [-1.22   ]\n",
      " [ 5.9966 ]\n",
      " [12.134  ]\n",
      " [ 1.8495 ]\n",
      " [ 6.5426 ]\n",
      " [ 4.5623 ]\n",
      " [ 4.1164 ]\n",
      " [ 3.3928 ]\n",
      " [10.117  ]\n",
      " [ 5.4974 ]\n",
      " [ 0.55657]\n",
      " [ 3.9115 ]\n",
      " [ 5.3854 ]\n",
      " [ 2.4406 ]\n",
      " [ 6.7318 ]\n",
      " [ 1.0463 ]\n",
      " [ 5.1337 ]\n",
      " [ 1.844  ]\n",
      " [ 8.0043 ]\n",
      " [ 1.0179 ]\n",
      " [ 6.7504 ]\n",
      " [ 1.8396 ]\n",
      " [ 4.2885 ]\n",
      " [ 4.9981 ]\n",
      " [ 1.4233 ]\n",
      " [-1.4211 ]\n",
      " [ 2.4756 ]\n",
      " [ 4.6042 ]\n",
      " [ 3.9624 ]\n",
      " [ 5.4141 ]\n",
      " [ 5.1694 ]\n",
      " [-0.74279]\n",
      " [17.929  ]\n",
      " [12.054  ]\n",
      " [17.054  ]\n",
      " [ 4.8852 ]\n",
      " [ 5.7442 ]\n",
      " [ 7.7754 ]\n",
      " [ 1.0173 ]\n",
      " [20.992  ]\n",
      " [ 6.6799 ]\n",
      " [ 4.0259 ]\n",
      " [ 1.2784 ]\n",
      " [ 3.3411 ]\n",
      " [-2.6807 ]\n",
      " [ 0.29678]\n",
      " [ 3.8845 ]\n",
      " [ 5.7014 ]\n",
      " [ 6.7526 ]\n",
      " [ 2.0576 ]\n",
      " [ 0.47953]\n",
      " [ 0.20421]\n",
      " [ 0.67861]\n",
      " [ 7.5435 ]\n",
      " [ 5.3436 ]\n",
      " [ 4.2415 ]\n",
      " [ 6.7981 ]\n",
      " [ 0.92695]\n",
      " [ 0.152  ]\n",
      " [ 2.8214 ]\n",
      " [ 1.8451 ]\n",
      " [ 4.2959 ]\n",
      " [ 7.2029 ]\n",
      " [ 1.9869 ]\n",
      " [ 0.14454]\n",
      " [ 9.0551 ]\n",
      " [ 0.61705]]\n"
     ]
    }
   ],
   "source": [
    "print(X,Y)"
   ]
  },
  {
   "cell_type": "code",
   "execution_count": 34,
   "id": "checked-holmes",
   "metadata": {},
   "outputs": [],
   "source": [
    "import matplotlib.pyplot as plt"
   ]
  },
  {
   "cell_type": "code",
   "execution_count": 39,
   "id": "fabulous-assessment",
   "metadata": {},
   "outputs": [
    {
     "data": {
      "image/png": "[encoded data removed]",
      "text/plain": [
       "<Figure size 432x288 with 1 Axes>"
      ]
     },
     "metadata": {
      "needs_background": "light"
     },
     "output_type": "display_data"
    }
   ],
   "source": [
    "plt.scatter(X,Y)"
   ]
  },
  {
   "cell_type": "code",
   "execution_count": 60,
   "id": "banner-guest",
   "metadata": {},
   "outputs": [],
   "source": [
    "import scipy.stats as ss"
   ]
  },
  {
   "cell_type": "code",
   "execution_count": 61,
   "id": "promotional-satisfaction",
   "metadata": {},
   "outputs": [],
   "source": [
    "std_x = np.std(X)"
   ]
  },
  {
   "cell_type": "code",
   "execution_count": 62,
   "id": "global-lindsay",
   "metadata": {},
   "outputs": [
    {
     "name": "stdout",
     "output_type": "stream",
     "text": [
      "3.8498839959227156\n"
     ]
    }
   ],
   "source": [
    "print(std_x)"
   ]
  },
  {
   "cell_type": "code",
   "execution_count": 63,
   "id": "continuing-relation",
   "metadata": {},
   "outputs": [],
   "source": [
    "std_y=np.std(Y)"
   ]
  },
  {
   "cell_type": "code",
   "execution_count": 64,
   "id": "floppy-prediction",
   "metadata": {},
   "outputs": [
    {
     "name": "stdout",
     "output_type": "stream",
     "text": [
      "5.48178525707763\n"
     ]
    }
   ],
   "source": [
    "print(std_y)"
   ]
  },
  {
   "cell_type": "code",
   "execution_count": 65,
   "id": "demanding-slovak",
   "metadata": {},
   "outputs": [],
   "source": [
    "meanx=np.mean(X)"
   ]
  },
  {
   "cell_type": "code",
   "execution_count": 66,
   "id": "greater-publication",
   "metadata": {},
   "outputs": [],
   "source": [
    "meany=np.mean(Y)"
   ]
  },
  {
   "cell_type": "code",
   "execution_count": 67,
   "id": "secret-smoke",
   "metadata": {},
   "outputs": [
    {
     "name": "stdout",
     "output_type": "stream",
     "text": [
      "8.159799999999999 5.839135051546393\n"
     ]
    }
   ],
   "source": [
    "print(meanx,meany)"
   ]
  },
  {
   "cell_type": "code",
   "execution_count": 68,
   "id": "premium-worship",
   "metadata": {},
   "outputs": [],
   "source": [
    "r=np.corrcoef(X,Y)"
   ]
  },
  {
   "cell_type": "code",
   "execution_count": 71,
   "id": "complimentary-patent",
   "metadata": {},
   "outputs": [],
   "source": [
    "r=ss.pearsonr(x,y)[0]"
   ]
  },
  {
   "cell_type": "code",
   "execution_count": 72,
   "id": "artificial-solution",
   "metadata": {},
   "outputs": [
    {
     "name": "stdout",
     "output_type": "stream",
     "text": [
      "0.8378732325263407\n"
     ]
    }
   ],
   "source": [
    "print(r)"
   ]
  },
  {
   "cell_type": "code",
   "execution_count": 73,
   "id": "fantastic-jonathan",
   "metadata": {},
   "outputs": [],
   "source": [
    "m=r*(std_y/std_x)"
   ]
  },
  {
   "cell_type": "code",
   "execution_count": 74,
   "id": "selected-cookbook",
   "metadata": {},
   "outputs": [
    {
     "name": "stdout",
     "output_type": "stream",
     "text": [
      "1.1930336441895935\n"
     ]
    }
   ],
   "source": [
    "print(m)"
   ]
  },
  {
   "cell_type": "code",
   "execution_count": 75,
   "id": "loaded-belle",
   "metadata": {},
   "outputs": [],
   "source": [
    "c=meany-(m*meanx)"
   ]
  },
  {
   "cell_type": "code",
   "execution_count": 77,
   "id": "american-factor",
   "metadata": {},
   "outputs": [
    {
     "name": "stdout",
     "output_type": "stream",
     "text": [
      "-3.89578087831185\n"
     ]
    }
   ],
   "source": [
    "print(c)"
   ]
  },
  {
   "cell_type": "code",
   "execution_count": 78,
   "id": "handled-prize",
   "metadata": {},
   "outputs": [],
   "source": [
    "yp=m*X+c"
   ]
  },
  {
   "cell_type": "code",
   "execution_count": 79,
   "id": "elementary-found",
   "metadata": {},
   "outputs": [
    {
     "name": "stdout",
     "output_type": "stream",
     "text": [
      "[[ 3.39377399]\n",
      " [ 2.6989512 ]\n",
      " [ 6.26719552]\n",
      " [ 4.45927234]\n",
      " [ 3.09515767]\n",
      " [ 6.10530086]\n",
      " [ 5.02381586]\n",
      " [ 6.33818102]\n",
      " [ 3.84247394]\n",
      " [ 2.13452698]\n",
      " [ 2.91727635]\n",
      " [13.00234766]\n",
      " [ 2.94507404]\n",
      " [ 6.13572322]\n",
      " [ 2.833764  ]\n",
      " [ 2.52202431]\n",
      " [ 3.69835548]\n",
      " [ 2.22460102]\n",
      " [ 3.77494824]\n",
      " [ 4.53992141]\n",
      " [ 3.48802365]\n",
      " [20.28701109]\n",
      " [ 2.65409313]\n",
      " [ 3.65146926]\n",
      " [ 2.74333205]\n",
      " [18.70624151]\n",
      " [11.40845471]\n",
      " [ 9.17628876]\n",
      " [11.82363042]\n",
      " [22.59314512]\n",
      " [ 2.37050903]\n",
      " [ 3.96559502]\n",
      " [ 7.13763287]\n",
      " [ 3.13333475]\n",
      " [ 5.90033768]\n",
      " [ 5.56903223]\n",
      " [ 5.7629002 ]\n",
      " [ 2.79272364]\n",
      " [11.41799898]\n",
      " [ 3.68403908]\n",
      " [ 2.55483273]\n",
      " [ 4.31527318]\n",
      " [10.07225703]\n",
      " [ 2.99243747]\n",
      " [ 5.43934948]\n",
      " [ 4.56652606]\n",
      " [ 2.1531383 ]\n",
      " [ 3.02548451]\n",
      " [10.06271276]\n",
      " [ 2.71553436]\n",
      " [ 5.09993141]\n",
      " [ 2.43648379]\n",
      " [ 4.96118159]\n",
      " [ 5.17497322]\n",
      " [ 3.65946258]\n",
      " [ 3.69060076]\n",
      " [ 3.58955081]\n",
      " [ 2.83257096]\n",
      " [ 7.21160096]\n",
      " [ 7.38268198]\n",
      " [ 6.63321825]\n",
      " [ 2.28329828]\n",
      " [21.49078204]\n",
      " [13.88996469]\n",
      " [18.72294398]\n",
      " [ 4.71577457]\n",
      " [ 6.0005525 ]\n",
      " [ 8.3161115 ]\n",
      " [ 2.66518834]\n",
      " [20.37171648]\n",
      " [ 8.19680814]\n",
      " [ 4.85452438]\n",
      " [ 3.2698178 ]\n",
      " [ 4.72496093]\n",
      " [ 2.10147995]\n",
      " [ 3.91608412]\n",
      " [ 5.09802255]\n",
      " [ 2.11293307]\n",
      " [ 8.36144678]\n",
      " [ 2.19787707]\n",
      " [ 2.93934748]\n",
      " [ 2.29415488]\n",
      " [ 3.68678305]\n",
      " [ 7.75860688]\n",
      " [ 3.87790704]\n",
      " [ 6.26552528]\n",
      " [ 7.05650658]\n",
      " [ 3.26480705]\n",
      " [ 2.69024205]\n",
      " [ 2.14025354]\n",
      " [ 2.91369725]\n",
      " [ 5.21493985]\n",
      " [ 3.10816174]\n",
      " [ 2.43373982]\n",
      " [ 5.99852435]\n",
      " [12.08371175]\n",
      " [ 2.59062374]]\n"
     ]
    }
   ],
   "source": [
    "print(yp)"
   ]
  },
  {
   "cell_type": "code",
   "execution_count": 81,
   "id": "middle-forum",
   "metadata": {},
   "outputs": [
    {
     "data": {
      "image/png": "[encoded data removed]",
      "text/plain": [
       "<Figure size 432x288 with 1 Axes>"
      ]
     },
     "metadata": {
      "needs_background": "light"
     },
     "output_type": "display_data"
    }
   ],
   "source": [
    "plt.scatter(X,Y)\n",
    "plt.plot(X,yp)\n",
    "plt.show()"
   ]
  },
  {
   "cell_type": "code",
   "execution_count": 82,
   "id": "accurate-drunk",
   "metadata": {},
   "outputs": [],
   "source": [
    "sse=np.sum(np.square(np.subtract(Y,yp)))"
   ]
  },
  {
   "cell_type": "code",
   "execution_count": 83,
   "id": "otherwise-viewer",
   "metadata": {},
   "outputs": [
    {
     "name": "stdout",
     "output_type": "stream",
     "text": [
      "868.5324469391846\n"
     ]
    }
   ],
   "source": [
    "print(sse)"
   ]
  },
  {
   "cell_type": "code",
   "execution_count": 84,
   "id": "prospective-coverage",
   "metadata": {},
   "outputs": [],
   "source": [
    "ssr=np.sum(np.square(np.subtract(yp,meany)))"
   ]
  },
  {
   "cell_type": "code",
   "execution_count": 85,
   "id": "lightweight-vertex",
   "metadata": {},
   "outputs": [
    {
     "name": "stdout",
     "output_type": "stream",
     "text": [
      "2046.3146047180394\n"
     ]
    }
   ],
   "source": [
    "print(ssr)"
   ]
  },
  {
   "cell_type": "code",
   "execution_count": 88,
   "id": "domestic-black",
   "metadata": {},
   "outputs": [],
   "source": [
    "sst=np.sum(np.square(np.subtract(y,meany)))"
   ]
  },
  {
   "cell_type": "code",
   "execution_count": 89,
   "id": "fewer-garden",
   "metadata": {},
   "outputs": [
    {
     "name": "stdout",
     "output_type": "stream",
     "text": [
      "2914.8470516572247\n"
     ]
    }
   ],
   "source": [
    "print(sst)"
   ]
  },
  {
   "cell_type": "code",
   "execution_count": 90,
   "id": "liquid-frank",
   "metadata": {},
   "outputs": [],
   "source": [
    "r=ssr/sst"
   ]
  },
  {
   "cell_type": "code",
   "execution_count": 91,
   "id": "rental-messenger",
   "metadata": {},
   "outputs": [
    {
     "name": "stdout",
     "output_type": "stream",
     "text": [
      "0.7020315537841395\n"
     ]
    }
   ],
   "source": [
    "print(r)"
   ]
  },
  {
   "cell_type": "code",
   "execution_count": null,
   "id": "numerous-radar",
   "metadata": {},
   "outputs": [],
   "source": []
  }
 ],
 "metadata": {
  "kernelspec": {
   "display_name": "Python 3",
   "language": "python",
   "name": "python3"
  },
  "language_info": {
   "codemirror_mode": {
    "name": "ipython",
    "version": 3
   },
   "file_extension": ".py",
   "mimetype": "text/x-python",
   "name": "python",
   "nbconvert_exporter": "python",
   "pygments_lexer": "ipython3",
   "version": "3.7.3"
  }
 },
 "nbformat": 4,
 "nbformat_minor": 5
}
