{
 "cells": [
  {
   "cell_type": "code",
   "execution_count": 1,
   "metadata": {},
   "outputs": [
    {
     "name": "stdout",
     "output_type": "stream",
     "text": [
      "Enter size of list : 5\n",
      "Enter an element : 1\n",
      "Enter an element : 2\n",
      "Enter an element : 3\n",
      "Enter an element : 4\n",
      "Enter an element : 5\n",
      "The elements in the list are :  1 2 3 4 5 \n",
      "Enter the element to be removed : 4\n",
      "The elements in the list are :  1 2 3 5 "
     ]
    }
   ],
   "source": [
    "n = int(input(\"Enter size of list : \"))\n",
    "items = []\n",
    "for i in range(n):\n",
    "    a = int(input(\"Enter an element : \"))\n",
    "    items.append(a)\n",
    "print(\"The elements in the list are : \", end = \" \"),\n",
    "for i in range(n):\n",
    "    print(items[i], end = \" \")\n",
    "print()\n",
    "id = int(input(\"Enter the element to be removed : \"))\n",
    "items.remove(id)\n",
    "print(\"The elements in the list are : \", end = \" \"),\n",
    "n = len(items)\n",
    "for i in range(n):\n",
    "    print(items[i], end = \" \")"
   ]
  },
  {
   "cell_type": "code",
   "execution_count": null,
   "metadata": {},
   "outputs": [],
   "source": []
  },
  {
   "cell_type": "code",
   "execution_count": null,
   "metadata": {},
   "outputs": [],
   "source": []
  }
 ],
 "metadata": {
  "kernelspec": {
   "display_name": "Python 3",
   "language": "python",
   "name": "python3"
  },
  "language_info": {
   "codemirror_mode": {
    "name": "ipython",
    "version": 3
   },
   "file_extension": ".py",
   "mimetype": "text/x-python",
   "name": "python",
   "nbconvert_exporter": "python",
   "pygments_lexer": "ipython3",
   "version": "3.8.8"
  }
 },
 "nbformat": 4,
 "nbformat_minor": 2
}
