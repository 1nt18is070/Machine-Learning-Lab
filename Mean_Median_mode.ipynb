{
 "cells": [
  {
   "cell_type": "code",
   "execution_count": 9,
   "metadata": {},
   "outputs": [
    {
     "name": "stdout",
     "output_type": "stream",
     "text": [
      "Enter the size of list : 5\n",
      "Enter element : 1\n",
      "Enter element : 1\n",
      "Enter element : 1\n",
      "Enter element : 2\n",
      "Enter element : 3\n",
      "Mean of the list is :  1.6\n"
     ]
    }
   ],
   "source": [
    "n = int(input(\"Enter the size of list : \"))\n",
    "list = []\n",
    "for i in range(n):\n",
    "    tmp = int(input(\"Enter element : \"))\n",
    "    list.append(tmp)\n",
    "sum = 0;\n",
    "for i in (list):\n",
    "    sum = sum + i\n",
    "print(\"Mean of the list is : \", end = \" \")\n",
    "print(sum / n)\n",
    "for i in range(n):\n",
    "    for j in range(n):\n",
    "        if(list[i] > list[j]):\n",
    "            tmp = list[i]\n",
    "            list[i] = list[j]\n",
    "            list[j] = tmp"
   ]
  },
  {
   "cell_type": "code",
   "execution_count": 10,
   "metadata": {},
   "outputs": [
    {
     "name": "stdout",
     "output_type": "stream",
     "text": [
      "Median of the list is :  1\n"
     ]
    }
   ],
   "source": [
    "if(n % 2 == 0):\n",
    "    tmp = list[round(n / 2)] + list[round(n / 2) - 1]\n",
    "    tmp = tmp / 2\n",
    "    print(\"Median of the list is : \", end = \" \")\n",
    "    print(tmp)\n",
    "else:\n",
    "    avg = int(list[round(n / 2)])\n",
    "    print(\"Median of the list is : \", end = \" \")\n",
    "    print(avg)"
   ]
  },
  {
   "cell_type": "code",
   "execution_count": 14,
   "metadata": {},
   "outputs": [
    {
     "name": "stdout",
     "output_type": "stream",
     "text": [
      "Mode of the given list is  1\n"
     ]
    }
   ],
   "source": [
    "dict = {}\n",
    "for i in list:\n",
    "    if(i in dict):\n",
    "        dict[i] += 1\n",
    "    else:\n",
    "        dict[i] = 1\n",
    "ele = 0\n",
    "max = 0\n",
    "for key, value in dict.items():\n",
    "    if(value > max):\n",
    "        ele = key\n",
    "print(\"Mode of the given list is \", end = \" \")\n",
    "print(ele)"
   ]
  },
  {
   "cell_type": "code",
   "execution_count": null,
   "metadata": {},
   "outputs": [],
   "source": []
  },
  {
   "cell_type": "code",
   "execution_count": null,
   "metadata": {},
   "outputs": [],
   "source": []
  },
  {
   "cell_type": "code",
   "execution_count": null,
   "metadata": {},
   "outputs": [],
   "source": []
  },
  {
   "cell_type": "code",
   "execution_count": null,
   "metadata": {},
   "outputs": [],
   "source": []
  },
  {
   "cell_type": "code",
   "execution_count": null,
   "metadata": {},
   "outputs": [],
   "source": []
  },
  {
   "cell_type": "code",
   "execution_count": null,
   "metadata": {},
   "outputs": [],
   "source": []
  },
  {
   "cell_type": "code",
   "execution_count": null,
   "metadata": {},
   "outputs": [],
   "source": []
  },
  {
   "cell_type": "code",
   "execution_count": null,
   "metadata": {},
   "outputs": [],
   "source": []
  }
 ],
 "metadata": {
  "kernelspec": {
   "display_name": "Python 3",
   "language": "python",
   "name": "python3"
  },
  "language_info": {
   "codemirror_mode": {
    "name": "ipython",
    "version": 3
   },
   "file_extension": ".py",
   "mimetype": "text/x-python",
   "name": "python",
   "nbconvert_exporter": "python",
   "pygments_lexer": "ipython3",
   "version": "3.8.8"
  }
 },
 "nbformat": 4,
 "nbformat_minor": 2
}
