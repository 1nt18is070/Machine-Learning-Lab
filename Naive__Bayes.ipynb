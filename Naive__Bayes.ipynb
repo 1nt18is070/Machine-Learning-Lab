{
 "cells": [
  {
   "cell_type": "code",
   "execution_count": 6,
   "metadata": {},
   "outputs": [
    {
     "name": "stdout",
     "output_type": "stream",
     "text": [
      "   no   pc     wbc      mc   ast      bc     ldh  diagnosis\n",
      "0   1  Low     Low     Low  High  Normal  Normal       True\n",
      "1   2  Low     Low  Normal  High  Normal    High       True\n",
      "2   3  Low    High  Normal  High  Normal  Normal      False\n",
      "3   4  Low    High  Normal  High    High  Normal       True\n",
      "4   5  Low  Normal    High  High  Normal  Normal      False\n",
      "[[1 1 1 0 1 1]\n",
      " [1 1 2 0 1 0]\n",
      " [1 0 2 0 1 1]\n",
      " [1 0 2 0 0 1]\n",
      " [1 2 0 0 1 1]\n",
      " [1 2 2 0 1 0]\n",
      " [2 1 1 0 1 1]\n",
      " [2 0 2 0 1 1]\n",
      " [2 0 2 0 0 0]\n",
      " [2 2 0 0 1 1]\n",
      " [2 2 0 0 1 0]\n",
      " [0 1 1 1 1 1]\n",
      " [0 2 0 1 1 1]\n",
      " [0 2 0 1 0 0]\n",
      " [0 0 2 1 1 0]\n",
      " [1 2 0 0 0 1]\n",
      " [2 2 0 0 0 1]\n",
      " [0 1 1 1 1 0]\n",
      " [2 2 2 0 1 1]\n",
      " [2 0 2 0 1 0]\n",
      " [2 1 2 0 1 0]\n",
      " [1 0 2 0 0 0]\n",
      " [1 1 1 0 0 0]\n",
      " [0 0 2 1 1 1]\n",
      " [0 2 2 1 1 1]]\n",
      "[1 1 0 1 0 1 1 0 1 0 1 1 0 1 1 0 0 1 0 1 1 1 1 1 0]\n",
      "Accuracy: 0.7142857142857143\n",
      "\n",
      "Report\n",
      "              precision    recall  f1-score   support\n",
      "\n",
      "           0       0.50      0.50      0.50         2\n",
      "           1       0.80      0.80      0.80         5\n",
      "\n",
      "    accuracy                           0.71         7\n",
      "   macro avg       0.65      0.65      0.65         7\n",
      "weighted avg       0.71      0.71      0.71         7\n",
      "\n"
     ]
    }
   ],
   "source": [
    "import pandas as pd\n",
    "import numpy as np\n",
    "\n",
    "data = pd.read_csv('covid.csv')\n",
    "print(data.head())\n",
    "\n",
    "from sklearn import preprocessing\n",
    "le = preprocessing.LabelEncoder()\n",
    "pc_encoded=le.fit_transform(data['pc'].values)\n",
    "wbc_encoded=le.fit_transform(data['wbc'].values)\n",
    "mc_encoded=le.fit_transform(data['mc'].values)\n",
    "ast_encoded=le.fit_transform(data['ast'].values)\n",
    "bc_encoded=le.fit_transform(data['bc'].values)\n",
    "ldh_encoded=le.fit_transform(data['ldh'].values)\n",
    "Y=le.fit_transform(data['diagnosis'].values)\n",
    "\n",
    "X=np.array(list(zip(pc_encoded,wbc_encoded,mc_encoded,ast_encoded,bc_encoded,ldh_encoded)))\n",
    "\n",
    "print(X)\n",
    "print(Y)\n",
    "\n",
    "from sklearn.naive_bayes import MultinomialNB\n",
    "from sklearn.metrics import accuracy_score\n",
    "from sklearn.metrics import classification_report\n",
    "model = MultinomialNB()\n",
    "\n",
    "from sklearn.model_selection import train_test_split\n",
    "X_train,X_test,Y_train,Y_test=train_test_split(X,Y)\n",
    "model.fit(X_train, Y_train)\n",
    "y_pred = model.predict(X_test)\n",
    "\n",
    "print(\"Accuracy:\",accuracy_score(Y_test, y_pred))\n",
    "\n",
    "print(\"\\nReport\")\n",
    "print(classification_report(Y_test,y_pred))"
   ]
  },
  {
   "cell_type": "code",
   "execution_count": null,
   "metadata": {},
   "outputs": [],
   "source": []
  }
 ],
 "metadata": {
  "kernelspec": {
   "display_name": "Python 3",
   "language": "python",
   "name": "python3"
  },
  "language_info": {
   "codemirror_mode": {
    "name": "ipython",
    "version": 3
   },
   "file_extension": ".py",
   "mimetype": "text/x-python",
   "name": "python",
   "nbconvert_exporter": "python",
   "pygments_lexer": "ipython3",
   "version": "3.8.5"
  }
 },
 "nbformat": 4,
 "nbformat_minor": 4
}
