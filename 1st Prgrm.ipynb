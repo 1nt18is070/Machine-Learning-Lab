{
 "cells": [
  {
   "cell_type": "code",
   "execution_count": 4,
   "metadata": {},
   "outputs": [
    {
     "name": "stdout",
     "output_type": "stream",
     "text": [
      "enter 1st number3\n",
      "enter 2nd number4\n",
      "3\n",
      "4\n",
      "enter operator+\n",
      "+\n",
      "The sum is\n",
      "7\n"
     ]
    }
   ],
   "source": [
    "a=int(input(\"enter 1st number\"))\n",
    "b=int(input(\"enter 2nd number\"))\n",
    "print(a)\n",
    "print(b)\n",
    "c=input(\"enter operator\")\n",
    "print(c)\n",
    "if(c=='+'):\n",
    "    res=a+b\n",
    "    print(\"The sum is\")\n",
    "    print(res)\n",
    "elif(c=='-'):\n",
    "    res=a-b\n",
    "    print(res)\n",
    "elif(c=='*'):\n",
    "    res=a*b\n",
    "    print(res)\n",
    "else:\n",
    "    res=a/b\n",
    "    print(res)"
   ]
  },
  {
   "cell_type": "code",
   "execution_count": null,
   "metadata": {},
   "outputs": [],
   "source": []
  },
  {
   "cell_type": "code",
   "execution_count": null,
   "metadata": {},
   "outputs": [],
   "source": []
  }
 ],
 "metadata": {
  "kernelspec": {
   "display_name": "Python 3",
   "language": "python",
   "name": "python3"
  },
  "language_info": {
   "codemirror_mode": {
    "name": "ipython",
    "version": 3
   },
   "file_extension": ".py",
   "mimetype": "text/x-python",
   "name": "python",
   "nbconvert_exporter": "python",
   "pygments_lexer": "ipython3",
   "version": "3.7.4"
  }
 },
 "nbformat": 4,
 "nbformat_minor": 2
}
