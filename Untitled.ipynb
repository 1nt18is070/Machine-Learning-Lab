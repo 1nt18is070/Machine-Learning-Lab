{
 "cells": [
  {
   "cell_type": "code",
   "execution_count": 5,
   "id": "7f5c24b7",
   "metadata": {},
   "outputs": [
    {
     "name": "stdout",
     "output_type": "stream",
     "text": [
      "list after normalisation is :\n",
      "0.051633298208640675\n",
      "0.0\n",
      "0.0015806111696522655\n",
      "1.0\n",
      "0.10432033719704953\n",
      "mean tends to ~\n",
      "0.0\n"
     ]
    }
   ],
   "source": [
    "n = 5\n",
    "list = [100,2,5,1900,200]\n",
    "\n",
    "min_ele = min(list)\n",
    "max_ele = max(list)\n",
    "sum = 0\n",
    "print(\"list after normalisation is :\")\n",
    "for i in range(n):\n",
    "    list[i] = (list[i] - min_ele) / (max_ele - min_ele)\n",
    "    sum = sum + list[i]\n",
    "    print(list[i])\n",
    "mean = sum // n ;\n",
    "print(\"mean tends to ~\")\n",
    "print(mean)\n",
    "\n",
    "\n",
    "\n"
   ]
  },
  {
   "cell_type": "code",
   "execution_count": null,
   "id": "151b7bdb",
   "metadata": {},
   "outputs": [],
   "source": []
  }
 ],
 "metadata": {
  "kernelspec": {
   "display_name": "Python 3",
   "language": "python",
   "name": "python3"
  },
  "language_info": {
   "codemirror_mode": {
    "name": "ipython",
    "version": 3
   },
   "file_extension": ".py",
   "mimetype": "text/x-python",
   "name": "python",
   "nbconvert_exporter": "python",
   "pygments_lexer": "ipython3",
   "version": "3.8.8"
  }
 },
 "nbformat": 4,
 "nbformat_minor": 5
}
