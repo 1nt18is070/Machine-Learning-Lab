{
 "cells": [
  {
   "cell_type": "code",
   "execution_count": 1,
   "metadata": {},
   "outputs": [
    {
     "name": "stdout",
     "output_type": "stream",
     "text": [
      "enter 1st number5\n",
      "enter 2nd number6\n",
      "5\n",
      "6\n",
      "enter operator+\n",
      "+\n",
      "The sum is\n",
      "11\n"
     ]
    }
   ],
   "source": [
    "a=int(input(\"enter 1st number\"))\n",
    "b=int(input(\"enter 2nd number\"))\n",
    "print(a)\n",
    "print(b)\n",
    "c=input(\"enter operator\")\n",
    "print(c)\n",
    "if(c=='+'):\n",
    "    res=a+b\n",
    "    print(\"The sum is\")\n",
    "    print(res)\n",
    "elif(c=='-'):\n",
    "    res=a-b\n",
    "    print(\"The difference is\")\n",
    "    print(res)\n",
    "elif(c=='*'):\n",
    "    res=a*b\n",
    "    print(\"The product is\")\n",
    "    print(res)\n",
    "else:\n",
    "    res=a/b\n",
    "    print(\"The division is\")\n",
    "    print(res)"
   ]
  },
  {
   "cell_type": "code",
   "execution_count": null,
   "metadata": {},
   "outputs": [],
   "source": []
  }
 ],
 "metadata": {
  "kernelspec": {
   "display_name": "Python 3",
   "language": "python",
   "name": "python3"
  },
  "language_info": {
   "codemirror_mode": {
    "name": "ipython",
    "version": 3
   },
   "file_extension": ".py",
   "mimetype": "text/x-python",
   "name": "python",
   "nbconvert_exporter": "python",
   "pygments_lexer": "ipython3",
   "version": "3.8.5"
  }
 },
 "nbformat": 4,
 "nbformat_minor": 4
}
