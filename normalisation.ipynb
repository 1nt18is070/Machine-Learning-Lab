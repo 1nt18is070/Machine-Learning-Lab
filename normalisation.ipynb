{
 "cells": [
  {
   "cell_type": "code",
   "execution_count": null,
   "id": "fcadb203",
   "metadata": {},
   "outputs": [],
   "source": [
    "n = int(input(\"Enter the size of list : \"))\n",
    "list = []\n",
    "for i in range(n):\n",
    "    tmp = int(input(\"Enter element : \"))\n",
    "    list.append(tmp)\n",
    "\n",
    "Min = min(list)\n",
    "Max = max(list)\n",
    "\n",
    "for i in range(n):\n",
    "    list[i] = (list[i] - Min) / (Max - Min)\n",
    "print(\"The list after normalisation is :\")\n",
    "for i in range(n):\n",
    "    print(list[i])\n"
   ]
  },
  {
   "cell_type": "code",
   "execution_count": 11,
   "id": "eb4033be",
   "metadata": {
    "scrolled": true
   },
   "outputs": [
    {
     "name": "stdout",
     "output_type": "stream",
     "text": [
      "[[1.         0.        ]\n",
      " [0.04166667 0.49494949]\n",
      " [0.47916667 0.04040404]\n",
      " [0.875      0.06060606]\n",
      " [0.         1.        ]]\n"
     ]
    }
   ],
   "source": [
    "from numpy import asarray\n",
    "from sklearn.preprocessing import MinMaxScaler\n",
    "\n",
    "data = asarray([[100, 0.001], [8, 0.05], [50, 0.005], [88, 0.007], [4, 0.1]])\n",
    "Scaler = MinMaxScaler()\n",
    "Scaled = Scaler.fit_transform(data)\n",
    "print(Scaled)"
   ]
  },
  {
   "cell_type": "code",
   "execution_count": 32,
   "id": "ba1a599e",
   "metadata": {},
   "outputs": [
    {
     "name": "stdout",
     "output_type": "stream",
     "text": [
      "[[1.         0.        ]\n",
      " [0.04166667 0.49494949]\n",
      " [0.47916667 0.04040404]\n",
      " [0.875      0.06060606]\n",
      " [0.         1.        ]]\n"
     ]
    }
   ],
   "source": [
    "list2 = [[100, 0.001], [8, 0.05], [50, 0.005], [88, 0.007], [4, 0.1]]\n",
    "max1 = list2[0][0]\n",
    "max2 = list2[0][1]\n",
    "min1 = list2[0][0]\n",
    "min2 = list2[0][1]\n",
    "\n",
    "for i in range(5):\n",
    "    for j in range(2):\n",
    "        if(j == 0):\n",
    "            if(list2[i][j] > max1):\n",
    "                max1 = list2[i][j]\n",
    "        \n",
    "            if(list2[i][j] < min1):\n",
    "                min1 = list2[i][j]\n",
    "            \n",
    "        else:\n",
    "            if(list2[i][j] > max2):\n",
    "                max2 = list2[i][j]\n",
    "        \n",
    "            if(list2[i][j] < min2):\n",
    "                min2 = list2[i][j]\n",
    "                \n",
    "\n",
    "for i in range(5):\n",
    "    for j in range(2):\n",
    "        if(j == 0):\n",
    "            list2[i][j] = (list2[i][j] - min1) / (max1 - min1)\n",
    "        else:\n",
    "            list2[i][j] = (list2[i][j] - min2) / (max2 - min2)\n",
    "\n",
    "data2 = asarray(list2)\n",
    "print(data2)\n"
   ]
  },
  {
   "cell_type": "code",
   "execution_count": 37,
   "id": "3f0a5ec5",
   "metadata": {},
   "outputs": [
    {
     "name": "stdout",
     "output_type": "stream",
     "text": [
      "Standard Deviation of sample is 1.5811388300841898 \n"
     ]
    }
   ],
   "source": [
    "\n",
    "import statistics\n",
    "sample = [1,2,3,4,5]\n",
    "print(\"Standard Deviation of sample is % s \" % (statistics.stdev(sample)))\n"
   ]
  },
  {
   "cell_type": "code",
   "execution_count": 40,
   "id": "40053d49",
   "metadata": {},
   "outputs": [
    {
     "name": "stdout",
     "output_type": "stream",
     "text": [
      "[-0.7660563  -0.6024272   0.2850052  -0.13561208  1.3071628 ]\n"
     ]
    }
   ],
   "source": [
    "import numpy as np\n",
    "x = np.random.normal(loc=0, scale=1, size=5)\n",
    "print(x)\n",
    "print(x.mean)"
   ]
  },
  {
   "cell_type": "code",
   "execution_count": null,
   "id": "d5990b59",
   "metadata": {},
   "outputs": [],
   "source": []
  }
 ],
 "metadata": {
  "kernelspec": {
   "display_name": "Python 3",
   "language": "python",
   "name": "python3"
  },
  "language_info": {
   "codemirror_mode": {
    "name": "ipython",
    "version": 3
   },
   "file_extension": ".py",
   "mimetype": "text/x-python",
   "name": "python",
   "nbconvert_exporter": "python",
   "pygments_lexer": "ipython3",
   "version": "3.8.8"
  }
 },
 "nbformat": 4,
 "nbformat_minor": 5
}
