{
 "cells": [
  {
   "cell_type": "code",
   "execution_count": 18,
   "metadata": {},
   "outputs": [
    {
     "name": "stdout",
     "output_type": "stream",
     "text": [
      "    34.62365962  78.02469282  0\n",
      "0     30.286711    43.894998  0\n",
      "1     35.847409    72.902198  0\n",
      "2     60.182599    86.308552  1\n",
      "3     79.032736    75.344376  1\n",
      "4     45.083277    56.316372  0\n",
      "..          ...          ... ..\n",
      "94    83.489163    48.380286  1\n",
      "95    42.261701    87.103851  1\n",
      "96    99.315009    68.775409  1\n",
      "97    55.340018    64.931938  1\n",
      "98    74.775893    89.529813  1\n",
      "\n",
      "[99 rows x 3 columns]\n",
      "[0. 0. 1. 1. 0. 1. 1. 1. 1. 0. 0. 1. 1. 0. 1. 1. 0. 1. 1. 0. 1. 0. 0. 1.\n",
      " 1. 1. 0. 0. 0. 1. 1. 0. 1. 0. 0. 0. 1. 0. 0. 1. 0. 1. 0. 0. 0. 1. 1. 1.\n",
      " 1. 1. 1. 1. 0. 0. 0. 1. 0. 1. 1. 1. 0. 0. 0. 0. 0. 1. 0. 1. 1. 0. 1. 1.\n",
      " 1. 1. 1. 1. 1. 0. 0. 1. 1. 1. 1. 1. 1. 0. 1. 1. 0. 1. 1. 0. 1. 1. 1. 1.\n",
      " 1. 1. 1.]\n",
      "b0 -6.492005988075469\n",
      "b1 0.062344865562534324\n",
      "b2 0.061964502618099104\n",
      "[1.0, 1.0, 1.0, 1.0, 0.0, 1.0, 1.0, 0.0, 0.0, 1.0, 0.0, 1.0, 0.0, 1.0, 1.0, 1.0, 1.0, 1.0, 1.0, 1.0]\n",
      "[0. 1. 1. 1. 0. 1. 1. 0. 0. 1. 0. 0. 0. 0. 1. 1. 0. 1. 1. 1.]\n"
     ]
    }
   ],
   "source": [
    "#importing libraries\n",
    "import pandas as pd\n",
    "import math\n",
    "import numpy as np\n",
    "from sklearn.model_selection import train_test_split\n",
    "\n",
    "#reading dataset\n",
    "dataset=pd.read_csv(\"Student-University.csv\")\n",
    "print(dataset)\n",
    "\n",
    "#splitting dataset into train and test\n",
    "X=dataset.values[:,0:2]\n",
    "Y=dataset.values[:,2]\n",
    "# print(X)\n",
    "print(Y)\n",
    "\n",
    "X_train,X_test,y_train,y_test=train_test_split(X,Y,test_size=0.20,random_state=100)\n",
    "\n",
    "#intializing coefficients\n",
    "b0=0.0\n",
    "b1=0.0\n",
    "b2=0.0\n",
    "\n",
    "#calculating y b0=b0 + 0.01 * (y - p) * p * (1 - p) * 1.0\n",
    "#     b1=b1+0.01*(y-p)p(1-p)*x1\n",
    "#     b2=b2+0.01*(y-p)p(1-p)*x2\n",
    "x1=X_train[:,0]\n",
    "x2=X_train[:,1]\n",
    "# print(x1)\n",
    "\n",
    "\n",
    "i=0\n",
    "alpha=0.001\n",
    "while(i<10000):\n",
    "    for j in range(len(x1)):\n",
    "        p=(1/(1+np.exp(-(b0+b1*x1[j]+b2*x2[j]))))\n",
    "        b0=b0 + alpha * (y_train[j] - p) * p* (1 - p) * 1.0\n",
    "        b1=b1+alpha*(y_train[j]-p)*p*(1-p)*x1[j]\n",
    "        b2=b2+alpha*(y_train[j]-p)*p*(1-p)*x2[j]\n",
    "    i+=1\n",
    "\n",
    "\n",
    "print(\"b0\",b0)\n",
    "print(\"b1\",b1)\n",
    "print(\"b2\",b2)\n",
    "\n",
    "\n",
    "xtest1=X_test[:,0]\n",
    "xtest2=X_test[:,1]\n",
    "y_pred=[]\n",
    "for k in range(len(xtest1)):\n",
    "    y_pred.append(np.round(1/(1+np.exp(-(b0+b1*xtest1[k]+b2*xtest2[k])))))\n",
    "print(y_pred)\n",
    "print(y_test)"
   ]
  },
  {
   "cell_type": "code",
   "execution_count": 19,
   "metadata": {},
   "outputs": [
    {
     "name": "stdout",
     "output_type": "stream",
     "text": [
      "0.8\n"
     ]
    }
   ],
   "source": [
    "from sklearn.metrics import accuracy_score\n",
    "print(accuracy_score(y_test,y_pred))"
   ]
  },
  {
   "cell_type": "code",
   "execution_count": null,
   "metadata": {},
   "outputs": [],
   "source": []
  }
 ],
 "metadata": {
  "kernelspec": {
   "display_name": "Python 3",
   "language": "python",
   "name": "python3"
  },
  "language_info": {
   "codemirror_mode": {
    "name": "ipython",
    "version": 3
   },
   "file_extension": ".py",
   "mimetype": "text/x-python",
   "name": "python",
   "nbconvert_exporter": "python",
   "pygments_lexer": "ipython3",
   "version": "3.8.5"
  }
 },
 "nbformat": 4,
 "nbformat_minor": 4
}
